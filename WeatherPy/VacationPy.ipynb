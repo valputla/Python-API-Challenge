{
 "cells": [
  {
   "cell_type": "markdown",
   "metadata": {},
   "source": [
    "# VacationPy\n",
    "----\n",
    "\n",
    "#### Note\n",
    "* Keep an eye on your API usage. Use https://developers.google.com/maps/reporting/gmp-reporting as reference for how to monitor your usage and billing.\n",
    "\n",
    "* Instructions have been included for each segment. You do not have to follow them exactly, but they are included to help you think through the steps."
   ]
  },
  {
   "cell_type": "code",
   "execution_count": 30,
   "metadata": {},
   "outputs": [],
   "source": [
    "# Dependencies and Setup\n",
    "import matplotlib.pyplot as plt\n",
    "import pandas as pd\n",
    "import numpy as np\n",
    "import requests\n",
    "import gmaps\n",
    "import os\n",
    "\n",
    "# Import API key\n",
    "from config import g_key"
   ]
  },
  {
   "cell_type": "markdown",
   "metadata": {},
   "source": [
    "### Store Part I results into DataFrame\n",
    "* Load the csv exported in Part I to a DataFrame"
   ]
  },
  {
   "cell_type": "code",
   "execution_count": 31,
   "metadata": {},
   "outputs": [],
   "source": [
    "weather = pd.read_csv(\"../WeatherPy/weather.csv\")\n"
   ]
  },
  {
   "cell_type": "markdown",
   "metadata": {},
   "source": [
    "### Humidity Heatmap\n",
    "* Configure gmaps.\n",
    "* Use the Lat and Lng as locations and Humidity as the weight.\n",
    "* Add Heatmap layer to map.\n",
    "\n",
    "Create a heat map that displays the humidity for every city from Part 1, as in the following image:"
   ]
  },
  {
   "cell_type": "code",
   "execution_count": 32,
   "metadata": {},
   "outputs": [
    {
     "data": {
      "text/html": [
       "<div>\n",
       "<style scoped>\n",
       "    .dataframe tbody tr th:only-of-type {\n",
       "        vertical-align: middle;\n",
       "    }\n",
       "\n",
       "    .dataframe tbody tr th {\n",
       "        vertical-align: top;\n",
       "    }\n",
       "\n",
       "    .dataframe thead th {\n",
       "        text-align: right;\n",
       "    }\n",
       "</style>\n",
       "<table border=\"1\" class=\"dataframe\">\n",
       "  <thead>\n",
       "    <tr style=\"text-align: right;\">\n",
       "      <th></th>\n",
       "      <th>index</th>\n",
       "      <th>City</th>\n",
       "      <th>Lat</th>\n",
       "      <th>Lng</th>\n",
       "      <th>Max Temp</th>\n",
       "      <th>Humidity</th>\n",
       "      <th>Cloudiness</th>\n",
       "      <th>Wind Speed</th>\n",
       "      <th>Country</th>\n",
       "      <th>Date</th>\n",
       "    </tr>\n",
       "  </thead>\n",
       "  <tbody>\n",
       "    <tr>\n",
       "      <th>0</th>\n",
       "      <td>0</td>\n",
       "      <td>rikitea</td>\n",
       "      <td>-23.1203</td>\n",
       "      <td>-134.9692</td>\n",
       "      <td>79.12</td>\n",
       "      <td>74</td>\n",
       "      <td>0</td>\n",
       "      <td>17.52</td>\n",
       "      <td>PF</td>\n",
       "      <td>1649640668</td>\n",
       "    </tr>\n",
       "    <tr>\n",
       "      <th>1</th>\n",
       "      <td>2</td>\n",
       "      <td>karratha</td>\n",
       "      <td>-20.7377</td>\n",
       "      <td>116.8463</td>\n",
       "      <td>89.04</td>\n",
       "      <td>27</td>\n",
       "      <td>0</td>\n",
       "      <td>8.70</td>\n",
       "      <td>AU</td>\n",
       "      <td>1649640668</td>\n",
       "    </tr>\n",
       "    <tr>\n",
       "      <th>2</th>\n",
       "      <td>3</td>\n",
       "      <td>baglan</td>\n",
       "      <td>36.1307</td>\n",
       "      <td>68.7083</td>\n",
       "      <td>76.50</td>\n",
       "      <td>33</td>\n",
       "      <td>100</td>\n",
       "      <td>1.10</td>\n",
       "      <td>AF</td>\n",
       "      <td>1649640669</td>\n",
       "    </tr>\n",
       "    <tr>\n",
       "      <th>3</th>\n",
       "      <td>4</td>\n",
       "      <td>tuktoyaktuk</td>\n",
       "      <td>69.4541</td>\n",
       "      <td>-133.0374</td>\n",
       "      <td>3.20</td>\n",
       "      <td>66</td>\n",
       "      <td>20</td>\n",
       "      <td>13.80</td>\n",
       "      <td>CA</td>\n",
       "      <td>1649640669</td>\n",
       "    </tr>\n",
       "    <tr>\n",
       "      <th>4</th>\n",
       "      <td>5</td>\n",
       "      <td>longyearbyen</td>\n",
       "      <td>78.2186</td>\n",
       "      <td>15.6401</td>\n",
       "      <td>10.24</td>\n",
       "      <td>56</td>\n",
       "      <td>0</td>\n",
       "      <td>23.02</td>\n",
       "      <td>SJ</td>\n",
       "      <td>1649640670</td>\n",
       "    </tr>\n",
       "    <tr>\n",
       "      <th>...</th>\n",
       "      <td>...</td>\n",
       "      <td>...</td>\n",
       "      <td>...</td>\n",
       "      <td>...</td>\n",
       "      <td>...</td>\n",
       "      <td>...</td>\n",
       "      <td>...</td>\n",
       "      <td>...</td>\n",
       "      <td>...</td>\n",
       "      <td>...</td>\n",
       "    </tr>\n",
       "    <tr>\n",
       "      <th>554</th>\n",
       "      <td>605</td>\n",
       "      <td>metro</td>\n",
       "      <td>-5.1131</td>\n",
       "      <td>105.3067</td>\n",
       "      <td>83.95</td>\n",
       "      <td>67</td>\n",
       "      <td>80</td>\n",
       "      <td>5.82</td>\n",
       "      <td>ID</td>\n",
       "      <td>1649640888</td>\n",
       "    </tr>\n",
       "    <tr>\n",
       "      <th>555</th>\n",
       "      <td>606</td>\n",
       "      <td>sokolskoye</td>\n",
       "      <td>57.1412</td>\n",
       "      <td>43.1589</td>\n",
       "      <td>38.61</td>\n",
       "      <td>99</td>\n",
       "      <td>100</td>\n",
       "      <td>2.57</td>\n",
       "      <td>RU</td>\n",
       "      <td>1649640889</td>\n",
       "    </tr>\n",
       "    <tr>\n",
       "      <th>556</th>\n",
       "      <td>607</td>\n",
       "      <td>asadabad</td>\n",
       "      <td>34.7824</td>\n",
       "      <td>48.1185</td>\n",
       "      <td>40.95</td>\n",
       "      <td>40</td>\n",
       "      <td>39</td>\n",
       "      <td>3.00</td>\n",
       "      <td>IR</td>\n",
       "      <td>1649640889</td>\n",
       "    </tr>\n",
       "    <tr>\n",
       "      <th>557</th>\n",
       "      <td>608</td>\n",
       "      <td>maromitsa</td>\n",
       "      <td>59.8683</td>\n",
       "      <td>48.0123</td>\n",
       "      <td>36.61</td>\n",
       "      <td>99</td>\n",
       "      <td>100</td>\n",
       "      <td>7.00</td>\n",
       "      <td>RU</td>\n",
       "      <td>1649640889</td>\n",
       "    </tr>\n",
       "    <tr>\n",
       "      <th>558</th>\n",
       "      <td>609</td>\n",
       "      <td>betare oya</td>\n",
       "      <td>5.6000</td>\n",
       "      <td>14.0833</td>\n",
       "      <td>70.74</td>\n",
       "      <td>85</td>\n",
       "      <td>100</td>\n",
       "      <td>2.30</td>\n",
       "      <td>CM</td>\n",
       "      <td>1649640890</td>\n",
       "    </tr>\n",
       "  </tbody>\n",
       "</table>\n",
       "<p>559 rows × 10 columns</p>\n",
       "</div>"
      ],
      "text/plain": [
       "     index          City      Lat       Lng  Max Temp  Humidity  Cloudiness  \\\n",
       "0        0       rikitea -23.1203 -134.9692     79.12        74           0   \n",
       "1        2      karratha -20.7377  116.8463     89.04        27           0   \n",
       "2        3        baglan  36.1307   68.7083     76.50        33         100   \n",
       "3        4   tuktoyaktuk  69.4541 -133.0374      3.20        66          20   \n",
       "4        5  longyearbyen  78.2186   15.6401     10.24        56           0   \n",
       "..     ...           ...      ...       ...       ...       ...         ...   \n",
       "554    605         metro  -5.1131  105.3067     83.95        67          80   \n",
       "555    606    sokolskoye  57.1412   43.1589     38.61        99         100   \n",
       "556    607      asadabad  34.7824   48.1185     40.95        40          39   \n",
       "557    608     maromitsa  59.8683   48.0123     36.61        99         100   \n",
       "558    609    betare oya   5.6000   14.0833     70.74        85         100   \n",
       "\n",
       "     Wind Speed Country        Date  \n",
       "0         17.52      PF  1649640668  \n",
       "1          8.70      AU  1649640668  \n",
       "2          1.10      AF  1649640669  \n",
       "3         13.80      CA  1649640669  \n",
       "4         23.02      SJ  1649640670  \n",
       "..          ...     ...         ...  \n",
       "554        5.82      ID  1649640888  \n",
       "555        2.57      RU  1649640889  \n",
       "556        3.00      IR  1649640889  \n",
       "557        7.00      RU  1649640889  \n",
       "558        2.30      CM  1649640890  \n",
       "\n",
       "[559 rows x 10 columns]"
      ]
     },
     "execution_count": 32,
     "metadata": {},
     "output_type": "execute_result"
    }
   ],
   "source": [
    "weather = weather[weather['Lat'] != 0]\n",
    "weather = weather.reset_index()\n",
    "weather"
   ]
  },
  {
   "cell_type": "code",
   "execution_count": 33,
   "metadata": {},
   "outputs": [],
   "source": [
    "gmaps.configure(api_key = g_key)\n",
    "location = weather[[\"Lat\", \"Lng\"]].astype(float)\n",
    "humidity = weather[\"Humidity\"].astype(float)"
   ]
  },
  {
   "cell_type": "code",
   "execution_count": 45,
   "metadata": {},
   "outputs": [
    {
     "data": {
      "application/vnd.jupyter.widget-view+json": {
       "model_id": "0383eaf5ec5249978f93725b1ecbdaae",
       "version_major": 2,
       "version_minor": 0
      },
      "text/plain": [
       "Figure(layout=FigureLayout(height='420px'))"
      ]
     },
     "metadata": {},
     "output_type": "display_data"
    }
   ],
   "source": [
    "fig = gmaps.figure()\n",
    "heat_layer = gmaps.heatmap_layer(location, weights=humidity, \n",
    "                                dissipating=False, max_intensity=100,\n",
    "                                point_radius = 4)\n",
    "fig.add_layer(heat_layer)\n",
    "fig"
   ]
  },
  {
   "cell_type": "code",
   "execution_count": null,
   "metadata": {},
   "outputs": [],
   "source": [
    "# Bring in location data pairs, humidity data, define map and layer, and add layer to map\n",
    "\n",
    "\n",
    "\n",
    "\n",
    "\n",
    "\n"
   ]
  },
  {
   "cell_type": "markdown",
   "metadata": {},
   "source": [
    "### Create new DataFrame fitting weather criteria\n",
    "* Narrow down the cities to fit weather conditions.\n",
    "* Drop any rows will null values."
   ]
  },
  {
   "cell_type": "code",
   "execution_count": null,
   "metadata": {},
   "outputs": [],
   "source": [
    "\n",
    "\n",
    "\n",
    "\n"
   ]
  },
  {
   "cell_type": "markdown",
   "metadata": {},
   "source": [
    "### Hotel Map\n",
    "* Create a dataframe named `hotel_df` that is the df created above only with the pertinent data.  See the prepared code below (`info_box_template`) to determine what data you will need for your final map.\n",
    "* Add a \"Hotel Name\" column to the DataFrame.\n",
    "* Set parameters to search for hotels (aka \"lodging\") within 5000 meters.\n",
    "* Utilize the Google Places API to find the first hotel search result.\n",
    "* Store the first Hotel result into the DataFrame.\n",
    "* Plot markers on top of the heatmap."
   ]
  },
  {
   "cell_type": "code",
   "execution_count": null,
   "metadata": {},
   "outputs": [],
   "source": [
    "# Create dataframe and empty column\n",
    "\n"
   ]
  },
  {
   "cell_type": "code",
   "execution_count": null,
   "metadata": {},
   "outputs": [],
   "source": [
    "# Loop through dataframe and add nearby hotel result\n",
    "\n",
    "\n",
    "\n",
    "\n",
    "\n",
    "\n",
    "\n",
    "\n",
    "\n",
    "\n",
    "\n",
    "\n"
   ]
  },
  {
   "cell_type": "code",
   "execution_count": null,
   "metadata": {},
   "outputs": [],
   "source": [
    "# NOTE: Do not change any of the code in this cell\n",
    "# Analyze the code below for variables but these should be all columns in hotel_df\n",
    "\n",
    "# Using the template add the hotel marks to the heatmap\n",
    "info_box_template = \"\"\"\n",
    "<dl>\n",
    "<dt>Name</dt><dd>{Hotel Name}</dd>\n",
    "<dt>City</dt><dd>{City}</dd>\n",
    "<dt>Country</dt><dd>{Country}</dd>\n",
    "</dl>\n",
    "\"\"\"\n",
    "# Store the DataFrame Row\n",
    "# NOTE: be sure to update with your DataFrame name\n",
    "hotel_info = [info_box_template.format(**row) for index, row in hotel_df.iterrows()]\n",
    "locations = hotel_df[[\"Lat\", \"Lng\"]]"
   ]
  },
  {
   "cell_type": "code",
   "execution_count": null,
   "metadata": {},
   "outputs": [],
   "source": [
    "# Add marker layer ontop of heat map\n",
    "\n",
    "\n",
    "\n",
    "# Display figure\n",
    "\n"
   ]
  },
  {
   "cell_type": "code",
   "execution_count": null,
   "metadata": {},
   "outputs": [],
   "source": []
  }
 ],
 "metadata": {
  "kernelspec": {
   "display_name": "Python [conda env:PythonData38] *",
   "language": "python",
   "name": "conda-env-PythonData38-py"
  },
  "language_info": {
   "codemirror_mode": {
    "name": "ipython",
    "version": 3
   },
   "file_extension": ".py",
   "mimetype": "text/x-python",
   "name": "python",
   "nbconvert_exporter": "python",
   "pygments_lexer": "ipython3",
   "version": "3.8.12"
  },
  "latex_envs": {
   "LaTeX_envs_menu_present": true,
   "autoclose": false,
   "autocomplete": true,
   "bibliofile": "biblio.bib",
   "cite_by": "apalike",
   "current_citInitial": 1,
   "eqLabelWithNumbers": true,
   "eqNumInitial": 1,
   "hotkeys": {
    "equation": "Ctrl-E",
    "itemize": "Ctrl-I"
   },
   "labels_anchors": false,
   "latex_user_defs": false,
   "report_style_numbering": false,
   "user_envs_cfg": false
  }
 },
 "nbformat": 4,
 "nbformat_minor": 4
}
