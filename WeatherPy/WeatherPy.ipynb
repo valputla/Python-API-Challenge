{
 "cells": [
  {
   "cell_type": "markdown",
   "metadata": {},
   "source": [
    "# WeatherPy\n",
    "----\n",
    "\n",
    "#### Note\n",
    "* Instructions have been included for each segment. You do not have to follow them exactly, but they are included to help you think through the steps.\n",
    "\n",
    "#### Analyis\n",
    "Observed Trends\n",
    "1.  \n",
    "2.  \n",
    "3.  "
   ]
  },
  {
   "cell_type": "code",
   "execution_count": 51,
   "metadata": {
    "scrolled": true
   },
   "outputs": [],
   "source": [
    "# Dependencies and Setup\n",
    "import matplotlib.pyplot as plt\n",
    "import pandas as pd\n",
    "import numpy as np\n",
    "import requests\n",
    "import time\n",
    "from scipy.stats import linregress\n",
    "\n",
    "\n",
    "# # Import API key\n",
    "from api_keys import api_key\n",
    "\n",
    "\n",
    "# Incorporated citipy to determine city based on latitude and longitude\n",
    "from citipy import citipy\n",
    "\n",
    "# Output File (CSV)\n",
    "output_data_file = \"output_data/cities.csv\"\n",
    "\n",
    "# Range of latitudes and longitudes\n",
    "lat_range = (-90, 90)\n",
    "lng_range = (-180, 180)"
   ]
  },
  {
   "cell_type": "code",
   "execution_count": null,
   "metadata": {},
   "outputs": [],
   "source": []
  },
  {
   "cell_type": "markdown",
   "metadata": {},
   "source": [
    "## Generate Cities List"
   ]
  },
  {
   "cell_type": "code",
   "execution_count": 52,
   "metadata": {},
   "outputs": [
    {
     "data": {
      "text/plain": [
       "618"
      ]
     },
     "execution_count": 52,
     "metadata": {},
     "output_type": "execute_result"
    }
   ],
   "source": [
    "# List for holding lat_lngs and cities\n",
    "lat_lngs = []\n",
    "cities = []\n",
    "\n",
    "# Create a set of random lat and lng combinations\n",
    "lats = np.random.uniform(lat_range[0], lat_range[1], size=1500)\n",
    "lngs = np.random.uniform(lng_range[0], lng_range[1], size=1500)\n",
    "lat_lngs = zip(lats, lngs)\n",
    "\n",
    "# Identify nearest city for each lat, lng combination\n",
    "for lat_lng in lat_lngs:\n",
    "    city = citipy.nearest_city(lat_lng[0], lat_lng[1]).city_name\n",
    "    \n",
    "    # If the city is unique, then add it to a our cities list\n",
    "    if city not in cities:\n",
    "        cities.append(city)\n",
    "\n",
    "# Print the city count to confirm sufficient count\n",
    "len(cities)"
   ]
  },
  {
   "cell_type": "markdown",
   "metadata": {},
   "source": [
    "### Perform API Calls\n",
    "* Perform a weather check on each city using a series of successive API calls.\n",
    "* Include a print log of each city as it'sbeing processed (with the city number and city name).\n"
   ]
  },
  {
   "cell_type": "code",
   "execution_count": null,
   "metadata": {},
   "outputs": [],
   "source": []
  },
  {
   "cell_type": "code",
   "execution_count": 62,
   "metadata": {},
   "outputs": [],
   "source": [
    "\n",
    "# weather_check = []\n",
    "# weather_df = pd.DataFrame()\n",
    "# weather_df[\"City\"] = cities\n",
    "# weather_df[\"Lat\"] = \" \"  \n",
    "# weather_df[\"Lng\"] = \" \"\n",
    "# weather_df[\"Max Temp\"] = \" \"  main, temp_max\n",
    "# weather_df[\"Humidity\"] = \" \"  main, humidity\n",
    "# weather_df[\"Cloudiness\"] = \" \"  clouds, all\n",
    "# weather_df[\"Wind Speed\"] = \" \" wind, speed\n",
    "# weather_df[\"Country\"] = \" \" sys, country\n",
    "# weather_df[\"Date\"] = \" \" dt\n",
    "\n",
    "\n"
   ]
  },
  {
   "cell_type": "code",
   "execution_count": 54,
   "metadata": {},
   "outputs": [],
   "source": [
    "cities = ['nikolskoye', 'yellowknife', 'taolanaro', 'jamestown', 'tiksi', 'bluff', 'pangkalanbuun',\n",
    "          'mataura', 'ucluelet', 'busselton', 'dumai', 'lebu', 'saldanha', 'ifanadiana', 'port hardy', \n",
    "          'castro', 'ushuaia', 'khalkhal', 'barrow', 'guaruja', 'dezhou', 'chaozhou', 'carroll', 'albany', \n",
    "          'energeticheskiy', 'matay', 'punta arenas', 'katsuura', 'druzhnaya gorka', 'upernavik', 'torbay', 'khatanga', 'lompoc', 'te anau', 'vaini', 'rikitea', 'codrington', 'dikson', 'isla vista', 'barentsburg', 'saskylakh', 'kulhudhuffushi', 'port lincoln', 'kapaa', 'dickinson', 'scottsbluff', 'arraial do cabo', 'outjo', 'puerto ayora', 'taoudenni', 'lingyuan', 'ayacucho', 'new norfolk', 'mar del plata', 'ca mau', 'balkanabat', 'sterlibashevo', 'bengkulu', 'madang', 'byron bay', 'vostok', 'salalah', 'qaanaaq', 'zmeinogorsk', 'cockburn town', 'vaitupu', 'port alfred', 'atuona', 'antofagasta', 'severo-yeniseyskiy', 'lagoa', 'illoqqortoormiut', 'bredasdorp', 'esperance', 'kerteh', 'chokurdakh', 'nevyansk', 'lasa', 'bambous virieux', 'guerrero negro', 'tucumcari', 'dingle', 'usinsk', 'east london', 'ketchikan', 'port macquarie', 'ulladulla', 'cape town', 'mahebourg', 'victoria', 'palabuhanratu', 'mayo', 'mykolayivka', 'wattegama', 'batemans bay', 'xining', 'hoquiam', 'cidreira', 'cherskiy', 'vengerovo', 'high level', 'port elizabeth', 'ilulissat', 'kirakira', 'saleaula', 'samusu', 'fortuna', 'bambanglipuro', 'iquitos', 'santa marta', 'nicoya', 'haines junction', 'saint-georges', 'krasnomayskiy', 'naryan-mar', 'maetaguse', 'teya', 'avarua', 'pisco', 'mungaoli', 'barcelos', 'hermanus', 'gillette', 'kalmunai', 'pevek', 'qianan', 'skibbereen', 'airai', 'umm kaddadah', 'guthrie', 'banda aceh', 'terenos', 'abu zabad', 'naze', 'toliary', 'belushya guba', 'deputatskiy', 'cap malheureux', 'gasa', 'klaksvik', 'nampula', 'kurunegala', 'praia da vitoria', 'saint-philippe', 'grand gaube', 'nizhneyansk', 'pamanukan', 'faanui', 'turukhansk', 'yamada', 'saint-pierre', 'ponta delgada', 'saint-avold', 'husavik', 'porangatu', 'norman wells', 'moura', 'longyearbyen', 'thompson', 'straumen', 'souillac', 'laguna', 'las vegas', 'tres arroyos', 'ridgecrest', 'bismarck', 'kansanshi', 'sitka', 'chuy', 'tuatapere', 'lazarev', 'kysyl-syr', 'hobart', 'ponta do sol', 'gladstone', 'iqaluit', 'provideniya', 'tyup', 'marcona', 'sinnamary', 'nizhneudinsk', 'hilo', 'malacatepec', 'manassas park', 'piryion', 'mys shmidta', 'yangliuqing', 'broome', 'general roca', 'erzin', 'umzimvubu', 'mnogovershinnyy', 'doha', 'urengoy', 'antsirabe', 'coquimbo', 'srednekolymsk', 'bogo', 'isangel', 'sorland', 'muros', 'maniitsoq', 'liverpool', 'puerto rico', 'ribeira grande', 'komsomolskiy', 'nova olimpia', 'cochrane', 'nikel', 'georgetown', 'pangnirtung', 'marsh harbour', 'amderma', 'aklavik', 'zhigansk', 'puerto suarez', 'hasaki', 'kahului', 'sao filipe', 'kaitangata', 'sambava', 'araouane', 'tasiilaq', 'south river', 'kieta', 'tsihombe', 'hammerfest', 'trindade', 'sataua', 'fort saint john', 'malko tarnovo', 'port hawkesbury', 'kabare', 'varna', 'san miguel', 'mogadishu', 'gigmoto', 'luwuk', 'leningradskiy', 'alice springs', 'kotelnich', 'ayan', 'miri', 'normandin', 'la ronge', 'acapulco', 'palmer', 'ulaangom', 'aksha', 'yulara', 'namie', 'sioux lookout', 'luderitz', 'tamandare', 'borlange', 'ceyhan', 'vila', 'nhulunbuy', 'ola', 'havelock', 'najran', 'soe', 'tobolsk', 'mildura', 'katobu', 'alekseyevka', 'synya', 'isla mujeres', 'beringovskiy', 'tuktoyaktuk', 'brae', 'kihei', 'palma soriano', 'vila franca do campo', 'kodiak', 'nanortalik', 'buin', 'tura', 'lebyazhye', 'bolshiye uki', 'clyde river', 'tuy hoa', 'grand river south east', 'ganzhou', 'phnum penh', 'karla', 'dongsheng', 'noumea', 'bilibino', 'atar', 'bismil', 'pulandian', 'north bend', 'bethel', 'puerto madryn', 'sigli', 'mirnyy', 'nara', 'comodoro rivadavia', 'kavieng', 'henties bay', 'mount isa', 'half moon bay', 'general cepeda', 'longlac', 'warrington', 'labuhan', 'ancud', 'hamilton', 'emerald', 'san cristobal', 'batagay', 'fare', 'venkatagiri', 'vila velha', 'yerbogachen', 'chicama', 'karratha', 'manggar', 'vanimo', 'pontes e lacerda', 'uglovskoye', 'vardo', 'harrison', 'redcar', 'rawson', 'sisimiut', 'massakory', 'burhaniye', 'amparai', 'punta cardon', 'aguimes', 'ingham', 'ondjiva', 'kissidougou', 'tessalit', 'pierre', 'belgrade', 'nome', 'pangoa', 'port blair', 'boueni', 'ngukurr', 'aflu', 'xinzhi', 'san quintin', 'kitimat', 'bathsheba', 'rampura', 'lolua', 'shido', 'omboue', 'lavrentiya', 'sao joao da barra', 'padang', 'vuktyl', 'sentyabrskiy', 'hithadhoo', 'kloulklubed', 'mocajuba', 'pimentel', 'kenai', 'nederland', 'sawakin', 'ruyigi', 'the valley', 'evensk', 'jiayuguan', 'ankang', 'cockburn harbour', 'ahipara', 'necochea', 'baruipur', 'medea', 'vestmannaeyjar', 'yanan', 'saint george', 'kuusamo', 'balabac', 'vao', 'chastoozerye', 'darhan', 'boa vista', 'teneguiban', 'la palma', 'cabo san lucas', 'montepuez', 'poronaysk', 'coihaique', 'touros', 'college', 'oskemen', 'tondano', 'puntarenas', 'minab', 'saint-augustin', 'praia', 'sao miguel', 'honiara', 'severo-kurilsk', 'pontianak', 'kruisfontein', 'kodinsk', 'tawkar', 'yar-sale', 'lucea', 'prince rupert', 'butaritari', 'poum', 'kavaratti', 'jieshi', 'innisfail', 'lorengau', 'jalu', 'yatou', 'chicla', 'ilhabela', 'piney green', 'jutai', 'moosomin', 'kailua', 'scottsburgh', 'skala', 'chiautla', 'valley city', 'honolulu', 'xanlar', 'rocha', 'olinda', 'murray bridge', 'al', 'huzhou', 'san patricio', 'ascope', 'dezful', 'panaba', 'altay', 'toropets', 'chimoio', 'sabha', 'moree', 'amherst', 'tual', 'maridi', 'wawa', 'zyryanka', 'christchurch', 'cabanas', 'kentau', 'santa paula', 'beira', 'dukat', 'san policarpo', 'iacu', 'kwekwe', 'tabiauea', 'bosaso', 'odlabari', 'ambilobe', 'paamiut', 'humboldt', 'stephenville', 'nuevo progreso', 'kuryk', 'asau', 'kununurra', 'awbari', 'hargeysa', 'providencia', 'oriximina', 'bumba', 'ituverava', 'svetlogorsk', 'geraldton', 'korla', 'lukovetskiy', 'hay river', 'nuuk', 'bar harbor', 'mikhaylovka', 'bilma', 'gornopravdinsk', 'ghanzi', 'dolbeau', 'tilichiki', 'jishu', 'mandera', 'angoche', 'phan thiet', 'nadym', 'iwanai', 'nguiu', 'ushtobe', 'grindavik', 'nyurba', 'changtu', 'panguna', 'san andres', 'rudsar', 'narsaq', 'sao mateus do sul', 'gazli', 'mantua', 'russell', 'qaqortoq', 'makakilo city', 'tubruq', 'bolungarvik', 'tiznit', 'chiang rai', 'saint-denis', 'port-gentil', 'moctezuma', 'san lorenzo', 'san ramon', 'tawang', 'carnarvon', 'kaeo', 'mackay', 'pinotepa nacional', 'selcuk', 'aquin', 'zakamensk', 'tabulbah', 'antsohihy', 'morant bay', 'nipawin', 'constantine', 'hulja', 'mussomeli', 'shahreza', 'san borja', 'wanaka', 'sosnovo-ozerskoye', 'concepcion del oro', 'cabedelo', 'sur', 'sungairaya', 'la libertad', 'rapid city', 'hobyo', 'sabang', 'filadelfia', 'tumannyy', 'neiafu', 'tazovskiy', 'dwarka', 'virginia beach', 'suining', 'medicine hat', 'yirol', 'humaita', 'digha', 'fot', 'igunga', 'gold coast', 'tara', 'la maddalena', 'oranjestad', 'dodge city', 'daru', 'dinghai', 'burns lake', 'ust-barguzin', 'kamaishi', 'along', 'dunedin', 'jining', 'melita', 'vetapalem', 'warwick', 'gat', 'tres picos', 'zhuhai', 'inta', 'santona', 'norilsk', 'karpathos', 'ahuimanu', 'polohy', 'tobol', 'tizimin', 'amapa', 'mujiayingzi', 'berlevag', 'nouadhibou', 'sorong', 'concordia', 'honningsvag', 'ardakan', 'ajdabiya', 'canutama', 'pafos', 'zhangye', 'porto novo', 'benjamin constant', 'meulaboh', 'san vicente', 'aban', 'senanga', 'carcassonne', 'elizabeth city', 'sompeta', 'aguascalientes', 'buraydah', 'fort nelson', 'kutum', 'aswan', 'alekseyevsk', 'batagay-alyta', 'bariadi', 'kadykchan', 'znamenskoye', 'inirida', 'walvis bay', 'hervey bay', 'zirandaro', 'petrozavodsk', 'guarapari', 'portland', 'cayenne']\n"
   ]
  },
  {
   "cell_type": "code",
   "execution_count": 71,
   "metadata": {},
   "outputs": [],
   "source": [
    "url = \"http://api.openweathermap.org/data/2.5/weather?\"\n",
    "\n",
    "lat = []\n",
    "lng = []\n",
    "max_temp = []\n",
    "humidity = []\n",
    "cloudiness = []\n",
    "wind_speed = []\n",
    "country = []\n",
    "date = []\n",
    "\n",
    "for city in cities:\n",
    "    query_url = url + \"appid=\" + api_key + \"&q=\" + city\n",
    "    weather_response = requests.get(query_url)\n",
    "    weather_json = weather_response.json()\n",
    "    try:\n",
    "        lat.append(weather_json[\"coord\"][\"lat\"])\n",
    "        lng.append(weather_json[\"coord\"][\"lon\"])\n",
    "        max_temp.append(weather_json[\"main\"][\"temp_max\"])\n",
    "        humidity.append(weather_json[\"main\"][\"humidity\"])\n",
    "        cloudiness.append(weather_json[\"clouds\"][\"all\"])\n",
    "        wind_speed.append(weather_json[\"wind\"][\"speed\"])\n",
    "        country.append(weather_json[\"sys\"][\"country\"])\n",
    "        date.append(weather_json[\"dt\"])\n",
    "        \n",
    "    except(KeyError, IndexError):\n",
    "        lat.append(0)\n",
    "        lng.append(0)\n",
    "        max_temp.append(0)\n",
    "        humidity.append(0)\n",
    "        cloudiness.append(0)\n",
    "        wind_speed.append(0)\n",
    "        country.append(0)\n",
    "        date.append(0)"
   ]
  },
  {
   "cell_type": "code",
   "execution_count": 73,
   "metadata": {},
   "outputs": [
    {
     "data": {
      "text/html": [
       "<div>\n",
       "<style scoped>\n",
       "    .dataframe tbody tr th:only-of-type {\n",
       "        vertical-align: middle;\n",
       "    }\n",
       "\n",
       "    .dataframe tbody tr th {\n",
       "        vertical-align: top;\n",
       "    }\n",
       "\n",
       "    .dataframe thead th {\n",
       "        text-align: right;\n",
       "    }\n",
       "</style>\n",
       "<table border=\"1\" class=\"dataframe\">\n",
       "  <thead>\n",
       "    <tr style=\"text-align: right;\">\n",
       "      <th></th>\n",
       "      <th>City</th>\n",
       "      <th>Lat</th>\n",
       "      <th>Lng</th>\n",
       "      <th>Max Temp</th>\n",
       "      <th>Humidity</th>\n",
       "      <th>Cloudiness</th>\n",
       "      <th>Wind Speed</th>\n",
       "      <th>Country</th>\n",
       "      <th>Date</th>\n",
       "    </tr>\n",
       "  </thead>\n",
       "  <tbody>\n",
       "    <tr>\n",
       "      <th>0</th>\n",
       "      <td>nikolskoye</td>\n",
       "      <td>59.7035</td>\n",
       "      <td>30.7861</td>\n",
       "      <td>277.09</td>\n",
       "      <td>87</td>\n",
       "      <td>15</td>\n",
       "      <td>4.20</td>\n",
       "      <td>RU</td>\n",
       "      <td>1649621262</td>\n",
       "    </tr>\n",
       "    <tr>\n",
       "      <th>1</th>\n",
       "      <td>yellowknife</td>\n",
       "      <td>62.4560</td>\n",
       "      <td>-114.3525</td>\n",
       "      <td>265.05</td>\n",
       "      <td>75</td>\n",
       "      <td>27</td>\n",
       "      <td>7.60</td>\n",
       "      <td>CA</td>\n",
       "      <td>1649621262</td>\n",
       "    </tr>\n",
       "    <tr>\n",
       "      <th>2</th>\n",
       "      <td>taolanaro</td>\n",
       "      <td>0.0000</td>\n",
       "      <td>0.0000</td>\n",
       "      <td>0.00</td>\n",
       "      <td>0</td>\n",
       "      <td>0</td>\n",
       "      <td>0.00</td>\n",
       "      <td>0</td>\n",
       "      <td>0</td>\n",
       "    </tr>\n",
       "    <tr>\n",
       "      <th>3</th>\n",
       "      <td>jamestown</td>\n",
       "      <td>42.0970</td>\n",
       "      <td>-79.2353</td>\n",
       "      <td>276.77</td>\n",
       "      <td>54</td>\n",
       "      <td>100</td>\n",
       "      <td>6.17</td>\n",
       "      <td>US</td>\n",
       "      <td>1649621046</td>\n",
       "    </tr>\n",
       "    <tr>\n",
       "      <th>4</th>\n",
       "      <td>tiksi</td>\n",
       "      <td>71.6872</td>\n",
       "      <td>128.8694</td>\n",
       "      <td>246.71</td>\n",
       "      <td>100</td>\n",
       "      <td>99</td>\n",
       "      <td>1.00</td>\n",
       "      <td>RU</td>\n",
       "      <td>1649621134</td>\n",
       "    </tr>\n",
       "  </tbody>\n",
       "</table>\n",
       "</div>"
      ],
      "text/plain": [
       "          City      Lat       Lng  Max Temp  Humidity  Cloudiness  Wind Speed  \\\n",
       "0   nikolskoye  59.7035   30.7861    277.09        87          15        4.20   \n",
       "1  yellowknife  62.4560 -114.3525    265.05        75          27        7.60   \n",
       "2    taolanaro   0.0000    0.0000      0.00         0           0        0.00   \n",
       "3    jamestown  42.0970  -79.2353    276.77        54         100        6.17   \n",
       "4        tiksi  71.6872  128.8694    246.71       100          99        1.00   \n",
       "\n",
       "  Country        Date  \n",
       "0      RU  1649621262  \n",
       "1      CA  1649621262  \n",
       "2       0           0  \n",
       "3      US  1649621046  \n",
       "4      RU  1649621134  "
      ]
     },
     "execution_count": 73,
     "metadata": {},
     "output_type": "execute_result"
    }
   ],
   "source": [
    "weather_dict = {\n",
    "    \"City\" : cities, \n",
    "    \"Lat\" : lat,\n",
    "    \"Lng\" : lng,\n",
    "    \"Max Temp\" : max_temp,\n",
    "    \"Humidity\" : humidity,\n",
    "    \"Cloudiness\" : cloudiness,\n",
    "    \"Wind Speed\" : wind_speed,\n",
    "    \"Country\" : country,\n",
    "    \"Date\" : date\n",
    "}\n",
    "\n",
    "weather_df = pd.DataFrame(weather_dict)\n",
    "\n",
    "weather_df.head()"
   ]
  },
  {
   "cell_type": "code",
   "execution_count": 77,
   "metadata": {},
   "outputs": [
    {
     "name": "stdout",
     "output_type": "stream",
     "text": [
      "Number of cities with missing info: 46\n"
     ]
    }
   ],
   "source": [
    "count_missing_info = (weather_df['Lng'] == 0).sum()\n",
    "print(f\"Number of cities with missing info: {count_missing_info}\")\n",
    "\n"
   ]
  },
  {
   "cell_type": "code",
   "execution_count": null,
   "metadata": {},
   "outputs": [],
   "source": []
  },
  {
   "cell_type": "code",
   "execution_count": null,
   "metadata": {},
   "outputs": [],
   "source": []
  },
  {
   "cell_type": "code",
   "execution_count": null,
   "metadata": {},
   "outputs": [],
   "source": []
  },
  {
   "cell_type": "code",
   "execution_count": null,
   "metadata": {},
   "outputs": [],
   "source": []
  },
  {
   "cell_type": "code",
   "execution_count": null,
   "metadata": {},
   "outputs": [],
   "source": []
  },
  {
   "cell_type": "code",
   "execution_count": 57,
   "metadata": {},
   "outputs": [],
   "source": [
    "# print(\"Beginning Data Retrieval\")\n",
    "# print(\"-------------------------\")\n",
    "# counter = 1\n",
    "# city = 1\n",
    "\n",
    "\n",
    "# base_url = \"https://api.openweathermap.org/data/2.5/weather\"\n",
    "# params = {\"appid\": api_key}\n",
    "\n",
    "# lat = weather_check[\"coord\"][\"lat\"]\n",
    "# lng = weather_check[\"coord\"][\"lon\"]\n",
    "    \n",
    "\n",
    "# for city in range(len(cities)):\n",
    "    \n",
    "#     cities = weather_df[\"City\"]\n",
    "    \n",
    " \n",
    "#     params[\"city\"] = f\"{lat}, {lng}\"\n",
    "\n",
    "    \n",
    "#     response = requests.get(base_url, params = params).json()\n",
    "#     weather_check.append(response)\n",
    "    \n",
    "#     try:\n",
    "#         print(f\"Processing Record {city} of Set {counter} | {cities[city]}\")\n",
    "#         weather_df[\"Max Temp\"] = weather_check[\"main\"][\"temp_max\"]\n",
    "           \n",
    "#     except(KeyError, IndexError):\n",
    "#             print(\"City not found. Skipping...\")\n",
    "#             counter += 1\n",
    "#             city = 0\n"
   ]
  },
  {
   "cell_type": "code",
   "execution_count": 58,
   "metadata": {},
   "outputs": [],
   "source": [
    "\n",
    "    \n",
    "    \n",
    "\n",
    "\n",
    "# # find the closest restaurant of each type to coordinates\n",
    "\n",
    "# base_url = \"https://maps.googleapis.com/maps/api/place/nearbysearch/json\"\n",
    "# params = {\n",
    "#     \"location\": \"39.952583,-75.16522\",  # philadelphia coords\n",
    "#     \"rankby\": \"distance\",\n",
    "#     \"type\": \"restaurant\",\n",
    "#     \"key\": gkey,\n",
    "# }\n",
    "# # use iterrows to iterate through pandas dataframe\n",
    "# for index, row in types_df.iterrows():\n",
    "\n",
    "#     # get restaurant type from df\n",
    "#     restr_type = row['ethnicity']\n",
    "\n",
    "#     # add keyword to params dict\n",
    "#     params['keyword'] = restr_type\n",
    "\n",
    "#     # assemble url and make API request\n",
    "#     print(f\"Retrieving Results for Index {index}: {restr_type}.\")\n",
    "#     response = requests.get(base_url, params=params).json()\n",
    "    \n",
    "#     # extract results\n",
    "#     results = response['results']\n",
    "    \n",
    "#     try:\n",
    "#         print(f\"Closest {restr_type} restaurant is {results[0]['name']}.\")\n",
    "        \n",
    "#         types_df.loc[index, 'name'] = results[0]['name']\n",
    "#         types_df.loc[index, 'address'] = results[0]['vicinity']\n",
    "#         types_df.loc[index, 'price_level'] = results[0]['price_level']\n",
    "#         types_df.loc[index, 'rating'] = results[0]['rating']\n",
    "        \n",
    "#     except (KeyError, IndexError):\n",
    "#         print(\"Missing field/result... skipping.\")\n",
    "        \n",
    "#     print(\"------------\")"
   ]
  },
  {
   "cell_type": "code",
   "execution_count": null,
   "metadata": {},
   "outputs": [],
   "source": []
  },
  {
   "cell_type": "code",
   "execution_count": null,
   "metadata": {},
   "outputs": [],
   "source": [
    "\n",
    "        "
   ]
  },
  {
   "cell_type": "code",
   "execution_count": null,
   "metadata": {
    "scrolled": true
   },
   "outputs": [],
   "source": []
  },
  {
   "cell_type": "markdown",
   "metadata": {},
   "source": [
    "### Convert Raw Data to DataFrame\n",
    "* Export the city data into a .csv.\n",
    "* Display the DataFrame"
   ]
  },
  {
   "cell_type": "code",
   "execution_count": null,
   "metadata": {},
   "outputs": [],
   "source": [
    " "
   ]
  },
  {
   "cell_type": "code",
   "execution_count": null,
   "metadata": {},
   "outputs": [],
   "source": []
  },
  {
   "cell_type": "code",
   "execution_count": null,
   "metadata": {},
   "outputs": [],
   "source": []
  },
  {
   "cell_type": "markdown",
   "metadata": {},
   "source": [
    "## Inspect the data and remove the cities where the humidity > 100%.\n",
    "----\n",
    "Skip this step if there are no cities that have humidity > 100%. "
   ]
  },
  {
   "cell_type": "code",
   "execution_count": null,
   "metadata": {},
   "outputs": [],
   "source": []
  },
  {
   "cell_type": "code",
   "execution_count": null,
   "metadata": {},
   "outputs": [],
   "source": [
    "#  Get the indices of cities that have humidity over 100%.\n"
   ]
  },
  {
   "cell_type": "code",
   "execution_count": null,
   "metadata": {},
   "outputs": [],
   "source": [
    "# Make a new DataFrame equal to the city data to drop all humidity outliers by index.\n",
    "# Passing \"inplace=False\" will make a copy of the city_data DataFrame, which we call \"clean_city_data\".\n"
   ]
  },
  {
   "cell_type": "code",
   "execution_count": null,
   "metadata": {},
   "outputs": [],
   "source": [
    "\n"
   ]
  },
  {
   "cell_type": "markdown",
   "metadata": {},
   "source": [
    "## Plotting the Data\n",
    "* Use proper labeling of the plots using plot titles (including date of analysis) and axes labels.\n",
    "* Save the plotted figures as .pngs in the output_data folder\n",
    "* Below are examples of what you should get but your results will be different."
   ]
  },
  {
   "cell_type": "markdown",
   "metadata": {},
   "source": [
    "## Latitude vs. Temperature Plot"
   ]
  },
  {
   "cell_type": "code",
   "execution_count": null,
   "metadata": {
    "scrolled": true
   },
   "outputs": [],
   "source": []
  },
  {
   "cell_type": "markdown",
   "metadata": {},
   "source": [
    "## Latitude vs. Humidity Plot"
   ]
  },
  {
   "cell_type": "code",
   "execution_count": null,
   "metadata": {},
   "outputs": [],
   "source": []
  },
  {
   "cell_type": "markdown",
   "metadata": {},
   "source": [
    "## Latitude vs. Cloudiness Plot"
   ]
  },
  {
   "cell_type": "code",
   "execution_count": null,
   "metadata": {},
   "outputs": [],
   "source": []
  },
  {
   "cell_type": "markdown",
   "metadata": {},
   "source": [
    "## Latitude vs. Wind Speed Plot"
   ]
  },
  {
   "cell_type": "code",
   "execution_count": null,
   "metadata": {},
   "outputs": [],
   "source": []
  },
  {
   "cell_type": "markdown",
   "metadata": {},
   "source": [
    "## Linear Regression"
   ]
  },
  {
   "cell_type": "code",
   "execution_count": null,
   "metadata": {},
   "outputs": [],
   "source": []
  },
  {
   "cell_type": "markdown",
   "metadata": {},
   "source": [
    "####  Northern Hemisphere - Max Temp vs. Latitude Linear Regression"
   ]
  },
  {
   "cell_type": "code",
   "execution_count": null,
   "metadata": {},
   "outputs": [],
   "source": []
  },
  {
   "cell_type": "markdown",
   "metadata": {},
   "source": [
    "####  Southern Hemisphere - Max Temp vs. Latitude Linear Regression"
   ]
  },
  {
   "cell_type": "code",
   "execution_count": null,
   "metadata": {},
   "outputs": [],
   "source": []
  },
  {
   "cell_type": "markdown",
   "metadata": {},
   "source": [
    "####  Northern Hemisphere - Humidity (%) vs. Latitude Linear Regression"
   ]
  },
  {
   "cell_type": "code",
   "execution_count": null,
   "metadata": {},
   "outputs": [],
   "source": []
  },
  {
   "cell_type": "markdown",
   "metadata": {},
   "source": [
    "####  Southern Hemisphere - Humidity (%) vs. Latitude Linear Regression"
   ]
  },
  {
   "cell_type": "code",
   "execution_count": null,
   "metadata": {},
   "outputs": [],
   "source": []
  },
  {
   "cell_type": "markdown",
   "metadata": {},
   "source": [
    "####  Northern Hemisphere - Cloudiness (%) vs. Latitude Linear Regression"
   ]
  },
  {
   "cell_type": "code",
   "execution_count": null,
   "metadata": {},
   "outputs": [],
   "source": []
  },
  {
   "cell_type": "markdown",
   "metadata": {},
   "source": [
    "####  Southern Hemisphere - Cloudiness (%) vs. Latitude Linear Regression"
   ]
  },
  {
   "cell_type": "code",
   "execution_count": null,
   "metadata": {},
   "outputs": [],
   "source": []
  },
  {
   "cell_type": "markdown",
   "metadata": {},
   "source": [
    "####  Northern Hemisphere - Wind Speed (mph) vs. Latitude Linear Regression"
   ]
  },
  {
   "cell_type": "code",
   "execution_count": null,
   "metadata": {},
   "outputs": [],
   "source": []
  },
  {
   "cell_type": "markdown",
   "metadata": {},
   "source": [
    "####  Southern Hemisphere - Wind Speed (mph) vs. Latitude Linear Regression"
   ]
  },
  {
   "cell_type": "code",
   "execution_count": null,
   "metadata": {},
   "outputs": [],
   "source": []
  },
  {
   "cell_type": "code",
   "execution_count": null,
   "metadata": {},
   "outputs": [],
   "source": []
  }
 ],
 "metadata": {
  "anaconda-cloud": {},
  "kernel_info": {
   "name": "python3"
  },
  "kernelspec": {
   "display_name": "Python [conda env:PythonData38] *",
   "language": "python",
   "name": "conda-env-PythonData38-py"
  },
  "language_info": {
   "codemirror_mode": {
    "name": "ipython",
    "version": 3
   },
   "file_extension": ".py",
   "mimetype": "text/x-python",
   "name": "python",
   "nbconvert_exporter": "python",
   "pygments_lexer": "ipython3",
   "version": "3.8.12"
  },
  "latex_envs": {
   "LaTeX_envs_menu_present": true,
   "autoclose": false,
   "autocomplete": true,
   "bibliofile": "biblio.bib",
   "cite_by": "apalike",
   "current_citInitial": 1,
   "eqLabelWithNumbers": true,
   "eqNumInitial": 1,
   "hotkeys": {
    "equation": "Ctrl-E",
    "itemize": "Ctrl-I"
   },
   "labels_anchors": false,
   "latex_user_defs": false,
   "report_style_numbering": false,
   "user_envs_cfg": false
  },
  "nteract": {
   "version": "0.12.3"
  }
 },
 "nbformat": 4,
 "nbformat_minor": 2
}
